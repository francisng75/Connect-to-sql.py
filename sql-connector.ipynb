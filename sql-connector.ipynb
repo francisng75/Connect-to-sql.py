{
 "cells": [
  {
   "cell_type": "code",
   "execution_count": null,
   "metadata": {},
   "outputs": [],
   "source": [
    "# Import libraries\n",
    "import mysql.connector\n",
    "import pandas as pd\n",
    "pd.options.display.max_rows = None"
   ]
  },
  {
   "cell_type": "code",
   "execution_count": null,
   "metadata": {
    "run_control": {
     "marked": false
    },
    "scrolled": false
   },
   "outputs": [],
   "source": [
    "# CONNECT TO SQL DATABASE AND TURN TABLES INTO DATAFRAMES\n",
    "# / First import pandas and mysql.connector /\n",
    "\n",
    "# enter host, user, password and database name !\n",
    "db = mysql.connector.connect(\n",
    "host= \"\",\n",
    "user= \"\",\n",
    "passwd= \"\",\n",
    "database= \"\"\n",
    ")\n",
    "\n",
    "# function to turn any sql table into dataframe with column name\n",
    "def createdb():\n",
    "\n",
    "    table = input(\"TABLE: \")\n",
    "    my_cursor = db.cursor()\n",
    "    my_cursor.execute(\"SELECT* FROM {}\".format(table))\n",
    "    my_result = my_cursor.fetchall()\n",
    "    cols = [col for col in my_cursor.column_names]\n",
    "    tab = []\n",
    "    for ent in my_result:\n",
    "        tab.append(ent)\n",
    "    return pd.DataFrame(tab, columns= cols)\n",
    "#\n",
    "createdb()"
   ]
  },
  {
   "cell_type": "code",
   "execution_count": null,
   "metadata": {},
   "outputs": [],
   "source": []
  }
 ],
 "metadata": {
  "kernelspec": {
   "display_name": "Python 3",
   "language": "python",
   "name": "python3"
  },
  "language_info": {
   "codemirror_mode": {
    "name": "ipython",
    "version": 3
   },
   "file_extension": ".py",
   "mimetype": "text/x-python",
   "name": "python",
   "nbconvert_exporter": "python",
   "pygments_lexer": "ipython3",
   "version": "3.7.4"
  }
 },
 "nbformat": 4,
 "nbformat_minor": 2
}
